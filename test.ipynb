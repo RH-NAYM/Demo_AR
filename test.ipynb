{
 "cells": [
  {
   "cell_type": "markdown",
   "id": "790b0e88",
   "metadata": {},
   "source": [
    "# Connect Cam"
   ]
  },
  {
   "cell_type": "code",
   "execution_count": null,
   "id": "3523263e",
   "metadata": {},
   "outputs": [],
   "source": [
    "from fastapi import FastAPI\n",
    "from fastapi.responses import StreamingResponse\n",
    "import cv2\n",
    "# import logging\n",
    "import uvicorn\n",
    "\n",
    "app = FastAPI()\n",
    "\n",
    "# # Setup logging\n",
    "# logging.basicConfig(level=logging.INFO)\n",
    "# logger = logging.getLogger(__name__)\n",
    "CAMERA_URL = \"http://192.168.1.22:4747/video\"\n",
    "\n",
    "cap = cv2.VideoCapture(CAMERA_URL, cv2.CAP_FFMPEG)\n",
    "\n",
    "# if not cap.isOpened():\n",
    "#     logger.error(f\"Failed to open video stream: {CAMERA_URL}\")\n",
    "# else:\n",
    "#     logger.info(f\"Video stream opened successfully: {CAMERA_URL}\")\n",
    "\n",
    "def generate_frames():\n",
    "    while True:\n",
    "        success, frame = cap.read()\n",
    "        if not success:\n",
    "            # logger.warning(\"Failed to grab frame from camera.\")\n",
    "            break\n",
    "        ret, buffer = cv2.imencode('.jpg', frame)\n",
    "        if not ret:\n",
    "            # logger.warning(\"Failed to encode frame.\")\n",
    "            continue\n",
    "        frame_bytes = buffer.tobytes()\n",
    "        yield (\n",
    "            b'--frame\\r\\n'\n",
    "            b'Content-Type: image/jpeg\\r\\n\\r\\n' + frame_bytes + b'\\r\\n'\n",
    "        )\n",
    "\n",
    "@app.get(\"/\")\n",
    "def index():\n",
    "    return {\"message\": \"Go to /video to view the live stream.\"}\n",
    "\n",
    "@app.get(\"/video\")\n",
    "def video_feed():\n",
    "    return StreamingResponse(generate_frames(), media_type=\"multipart/x-mixed-replace; boundary=frame\")\n",
    "\n",
    "\n",
    "\n",
    "\n",
    "\n",
    "if __name__ == \"__main__\":\n",
    "    uvicorn.run(app, host=\"127.0.0.1\", port=5656)"
   ]
  },
  {
   "cell_type": "code",
   "execution_count": null,
   "id": "42480c40",
   "metadata": {},
   "outputs": [],
   "source": []
  },
  {
   "cell_type": "code",
   "execution_count": null,
   "id": "826644d9",
   "metadata": {},
   "outputs": [],
   "source": []
  },
  {
   "cell_type": "code",
   "execution_count": null,
   "id": "69fe2fef",
   "metadata": {},
   "outputs": [],
   "source": []
  },
  {
   "cell_type": "code",
   "execution_count": null,
   "id": "0383c586",
   "metadata": {},
   "outputs": [],
   "source": []
  },
  {
   "cell_type": "code",
   "execution_count": null,
   "id": "58b25f7b",
   "metadata": {},
   "outputs": [],
   "source": []
  }
 ],
 "metadata": {
  "kernelspec": {
   "display_name": "dev",
   "language": "python",
   "name": "python3"
  },
  "language_info": {
   "codemirror_mode": {
    "name": "ipython",
    "version": 3
   },
   "file_extension": ".py",
   "mimetype": "text/x-python",
   "name": "python",
   "nbconvert_exporter": "python",
   "pygments_lexer": "ipython3",
   "version": "3.12.9"
  }
 },
 "nbformat": 4,
 "nbformat_minor": 5
}
